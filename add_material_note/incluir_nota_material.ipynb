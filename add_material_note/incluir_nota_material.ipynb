{
 "cells": [
  {
   "cell_type": "code",
   "execution_count": 1,
   "metadata": {},
   "outputs": [],
   "source": [
    "import win32com.client\n",
    "import os\n",
    "import pandas as pd\n",
    "from datetime import datetime, date\n",
    "from tqdm import tqdm"
   ]
  },
  {
   "cell_type": "code",
   "execution_count": 9,
   "metadata": {},
   "outputs": [],
   "source": [
    "SapGuiAuto  = win32com.client.GetObject(\"SAPGUI\")\n",
    "application = SapGuiAuto.GetScriptingEngine\n",
    "connection = application.Children(0)\n",
    "session = connection.Children(0)"
   ]
  },
  {
   "cell_type": "code",
   "execution_count": 10,
   "metadata": {},
   "outputs": [
    {
     "data": {
      "text/html": [
       "<div>\n",
       "<style scoped>\n",
       "    .dataframe tbody tr th:only-of-type {\n",
       "        vertical-align: middle;\n",
       "    }\n",
       "\n",
       "    .dataframe tbody tr th {\n",
       "        vertical-align: top;\n",
       "    }\n",
       "\n",
       "    .dataframe thead th {\n",
       "        text-align: right;\n",
       "    }\n",
       "</style>\n",
       "<table border=\"1\" class=\"dataframe\">\n",
       "  <thead>\n",
       "    <tr style=\"text-align: right;\">\n",
       "      <th></th>\n",
       "      <th>MATNR</th>\n",
       "      <th>WERKS</th>\n",
       "      <th>OBS</th>\n",
       "    </tr>\n",
       "  </thead>\n",
       "  <tbody>\n",
       "    <tr>\n",
       "      <th>0</th>\n",
       "      <td>80000805</td>\n",
       "      <td>1001</td>\n",
       "      <td>MANTER ESTOQUE</td>\n",
       "    </tr>\n",
       "    <tr>\n",
       "      <th>1</th>\n",
       "      <td>80001481</td>\n",
       "      <td>1001</td>\n",
       "      <td>MANTER ESTOQUE</td>\n",
       "    </tr>\n",
       "    <tr>\n",
       "      <th>2</th>\n",
       "      <td>80002590</td>\n",
       "      <td>1001</td>\n",
       "      <td>ALTERAR P/DEBITO DIRETO</td>\n",
       "    </tr>\n",
       "    <tr>\n",
       "      <th>3</th>\n",
       "      <td>80003174</td>\n",
       "      <td>1001</td>\n",
       "      <td>ALTERAR P/DEBITO DIRETO</td>\n",
       "    </tr>\n",
       "    <tr>\n",
       "      <th>4</th>\n",
       "      <td>80018810</td>\n",
       "      <td>1001</td>\n",
       "      <td>ALTERAR P/ESTOQUE</td>\n",
       "    </tr>\n",
       "    <tr>\n",
       "      <th>5</th>\n",
       "      <td>80022685</td>\n",
       "      <td>1001</td>\n",
       "      <td>MANTER ESTOQUE</td>\n",
       "    </tr>\n",
       "    <tr>\n",
       "      <th>6</th>\n",
       "      <td>80023345</td>\n",
       "      <td>1001</td>\n",
       "      <td>MANTER ESTOQUE</td>\n",
       "    </tr>\n",
       "    <tr>\n",
       "      <th>7</th>\n",
       "      <td>80023428</td>\n",
       "      <td>1001</td>\n",
       "      <td>ALTERAR P/ESTOQUE</td>\n",
       "    </tr>\n",
       "    <tr>\n",
       "      <th>8</th>\n",
       "      <td>80033724</td>\n",
       "      <td>1001</td>\n",
       "      <td>MANTER DEBITO DIRETO</td>\n",
       "    </tr>\n",
       "  </tbody>\n",
       "</table>\n",
       "</div>"
      ],
      "text/plain": [
       "      MATNR WERKS                      OBS\n",
       "0  80000805  1001           MANTER ESTOQUE\n",
       "1  80001481  1001           MANTER ESTOQUE\n",
       "2  80002590  1001  ALTERAR P/DEBITO DIRETO\n",
       "3  80003174  1001  ALTERAR P/DEBITO DIRETO\n",
       "4  80018810  1001        ALTERAR P/ESTOQUE\n",
       "5  80022685  1001           MANTER ESTOQUE\n",
       "6  80023345  1001           MANTER ESTOQUE\n",
       "7  80023428  1001        ALTERAR P/ESTOQUE\n",
       "8  80033724  1001     MANTER DEBITO DIRETO"
      ]
     },
     "execution_count": 10,
     "metadata": {},
     "output_type": "execute_result"
    }
   ],
   "source": [
    "df = pd.read_excel(\"InsertMaterialNote.xlsx\", dtype=str)\n",
    "df.head(9)\n",
    "\n",
    "\n"
   ]
  },
  {
   "cell_type": "code",
   "execution_count": 11,
   "metadata": {},
   "outputs": [
    {
     "data": {
      "text/plain": [
       "array(['MANTER ESTOQUE', 'ALTERAR P/DEBITO DIRETO', 'ALTERAR P/ESTOQUE',\n",
       "       'MANTER DEBITO DIRETO', 'OBSOLETAR/VENDA'], dtype=object)"
      ]
     },
     "execution_count": 11,
     "metadata": {},
     "output_type": "execute_result"
    }
   ],
   "source": [
    "df[\"OBS\"].unique()"
   ]
  },
  {
   "cell_type": "code",
   "execution_count": 12,
   "metadata": {},
   "outputs": [
    {
     "data": {
      "text/plain": [
       "'10.10.2024'"
      ]
     },
     "execution_count": 12,
     "metadata": {},
     "output_type": "execute_result"
    }
   ],
   "source": [
    "#Abrir tela MM02 (Modificar Material)\n",
    "session.findById(\"wnd[0]/tbar[0]/okcd\").text = \"/NMM02\"\n",
    "session.findById(\"wnd[0]\").sendVKey(0)\n",
    "\n",
    "############################################################\n",
    "#<<-------->> Atenção Informar N° SE Atualizado <<-------->>\n",
    "n_se = \"CAD.AP.2024.02069\"\n",
    "#<<------------------------------------------------------->>\n",
    "############################################################\n",
    "\n",
    "data = date.today()\n",
    "data_atual = f'{\"%02d\"%data.day}/{\"%02d\"%data.month}/{data.year}'\n",
    "dt_rev = f'{\"%02d\"%data.day}.{\"%02d\"%data.month}.{data.year}'\n",
    "dt_rev\n"
   ]
  },
  {
   "cell_type": "code",
   "execution_count": 13,
   "metadata": {},
   "outputs": [
    {
     "name": "stderr",
     "output_type": "stream",
     "text": [
      "100%|██████████| 158/158 [05:57<00:00,  2.26s/it]\n"
     ]
    }
   ],
   "source": [
    "for sku, cen, obs in tqdm(df.values):\n",
    "    nota_mrp = f\"REANÁLISE OBS: {dt_rev} - {n_se} - {obs}\"\n",
    "    #Informar o SKU\n",
    "    session.findById(\"wnd[0]/usr/ctxtRMMG1-MATNR\").text = sku #\"80059382\"\n",
    "    session.findById(\"wnd[0]\").sendVKey(0)\n",
    "\n",
    "    user = os.getlogin().upper()\n",
    "    errouser = f\"Dados de grupo de empresas do material {sku} bloqueados pelo usuário {user}\"\n",
    "    sbar = session.findById(\"wnd[0]/sbar\").text        \n",
    "    while sbar == errouser: \n",
    "        session.findById(\"wnd[0]/tbar[0]/btn[15]\").press()       \n",
    "        session.findById(\"wnd[0]/tbar[0]/okcd\").text = \"/NMM02\"\n",
    "        session.findById(\"wnd[0]\").sendVKey(0)\n",
    "        #Código do material   \n",
    "        session.findById(\"wnd[0]/usr/ctxtRMMG1-MATNR\").text = sku\n",
    "        session.findById(\"wnd[0]/tbar[1]/btn[5]\").press() \n",
    "        sbar = session.findById(\"wnd[0]/sbar\").text\n",
    "\n",
    "    #Selecionar as Visões\n",
    "    session.findById(\"wnd[1]/tbar[0]/btn[19]\").press()        \n",
    "\n",
    "    l = 4\n",
    "    while session.findById(f\"wnd[1]/usr/tblSAPLMGMMTC_VIEW/txtMSICHTAUSW-DYTXT[0,{l}]\").text != \"MRP 4\":\n",
    "        l = l + 1            \n",
    "\n",
    "    if session.findById(f\"wnd[1]/usr/tblSAPLMGMMTC_VIEW/txtMSICHTAUSW-DYTXT[0,{l}]\").text == \"MRP 4\":\n",
    "        session.findById(f\"wnd[1]/usr/tblSAPLMGMMTC_VIEW\").getAbsoluteRow(l).Selected = True\n",
    "    session.findById(\"wnd[1]/tbar[0]/btn[6]\").press()\n",
    "    session.findById(\"wnd[1]/usr/ctxtRMMG1-WERKS\").text = cen #\"1005\"\n",
    "    session.findById(\"wnd[1]/usr/ctxtRMMG1-LGORT\").text = \"\"\n",
    "\n",
    "    session.findById(\"wnd[1]/tbar[0]/btn[0]\").press()\n",
    "    #Incluir Nota Material\n",
    "    session.findById(\"wnd[0]/usr/tabsTABSPR1/tabpSP15/ssubTABFRA1:SAPLMGMM:2000/subSUB5:SAPLMGD1:2503/btnMARC_NOTE\").press()\n",
    "\n",
    "    if session.findById(\"wnd[0]/usr/tblSAPLSTXXEDITAREA/txtRSTXT-TXLINE[2,1]\").text != \"\":\n",
    "        session.findById(\"wnd[0]/usr/tblSAPLSTXXEDITAREA/ctxtRSTXT-TXPARGRAPH[0,1]\").setFocus()\n",
    "        session.findById(\"wnd[0]\").sendVKey(0)\n",
    "        session.findById(\"wnd[0]/usr/tblSAPLSTXXEDITAREA/txtRSTXT-TXLINE[2,1]\").text = nota_mrp\n",
    "\n",
    "    else:\n",
    "        session.findById(\"wnd[0]/usr/tblSAPLSTXXEDITAREA/txtRSTXT-TXLINE[2,1]\").text = nota_mrp\n",
    "\n",
    "    session.findById(\"wnd[0]/tbar[0]/btn[11]\").press()\n",
    "    session.findById(\"wnd[0]/tbar[0]/btn[3]\").press()\n",
    "    session.findById(\"wnd[0]\").sendVKey(0)\n",
    "\n",
    "    #Finalizar processo\n",
    "    session.findById(\"wnd[1]/usr/btnSPOP-OPTION1\").press()\n",
    "    \n",
    "session.findById(\"wnd[0]/tbar[0]/btn[15]\").press()\n"
   ]
  }
 ],
 "metadata": {
  "kernelspec": {
   "display_name": "Python 3",
   "language": "python",
   "name": "python3"
  },
  "language_info": {
   "codemirror_mode": {
    "name": "ipython",
    "version": 3
   },
   "file_extension": ".py",
   "mimetype": "text/x-python",
   "name": "python",
   "nbconvert_exporter": "python",
   "pygments_lexer": "ipython3",
   "version": "3.12.3"
  }
 },
 "nbformat": 4,
 "nbformat_minor": 2
}
