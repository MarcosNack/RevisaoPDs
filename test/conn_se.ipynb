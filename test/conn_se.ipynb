{
 "cells": [
  {
   "cell_type": "code",
   "execution_count": 1,
   "metadata": {},
   "outputs": [],
   "source": [
    "import pandas as pd\n",
    "\n",
    "import math\n",
    "from time import sleep\n",
    "from selenium import webdriver\n",
    "\n",
    "import pyautogui\n",
    "\n",
    "from selenium.webdriver.common.by import By\n",
    "from selenium.webdriver.support.wait import WebDriverWait\n",
    "from selenium.webdriver.support import expected_conditions as EC\n",
    "from subprocess import CREATE_NO_WINDOW"
   ]
  },
  {
   "cell_type": "code",
   "execution_count": 3,
   "metadata": {},
   "outputs": [
    {
     "name": "stdout",
     "output_type": "stream",
     "text": [
      "OK \n"
     ]
    }
   ],
   "source": [
    "# Atualiza o webdriver do Chomer\n",
    "\n",
    "try:\n",
    "    # Conexão Edge\n",
    "    # servico = webdriver.edge.service.Service(r\"..\\msedgedriver.exe\")\n",
    "    win_cad_pd = \"\"\n",
    "    servico = webdriver.edge.service.Service(r\"..\\msedgedriver.exe\")\n",
    "    \n",
    "    servico.creation_flags = CREATE_NO_WINDOW            \n",
    "    browser = webdriver.Edge(service=servico)\n",
    "    browser.maximize_window()\n",
    "\n",
    "    dimensao = browser.get_window_size()\n",
    "    width = int(dimensao[\"width\"])\n",
    "    height = int(dimensao[\"height\"])\n",
    "    \n",
    "    novo_width = width*50/100\n",
    "\n",
    "    browser.get('https://portal.berneck.com.br/softexpert/workspace?page=execution,105,1')\n",
    "\n",
    "    window_principal = browser.current_window_handle\n",
    "    \n",
    "    browser.set_window_size(novo_width+20, height)\n",
    "    browser.set_window_position(novo_width-30,0)\n",
    "    \n",
    "    \n",
    "    try:\n",
    "        sleep(3)\n",
    "        # Digite o texto no alerta\n",
    "        pyautogui.write('berneck\\\\mhnc010337')\n",
    "        # Envie a tecla Tab\n",
    "        pyautogui.press('tab')\n",
    "        # Adicione mais texto, se necessário\n",
    "        pyautogui.write('010337*MHnc')\n",
    "        pyautogui.press('Enter')\n",
    "        \n",
    "    except:\n",
    "        pass\n",
    "    \n",
    "    print(\"OK\", \"\")\n",
    "\n",
    "except:\n",
    "    print(\"Erro\", \"Erro ao conectar ao SE. Verificar a versão do Driver.\")\n",
    "\n"
   ]
  },
  {
   "cell_type": "code",
   "execution_count": null,
   "metadata": {},
   "outputs": [],
   "source": [
    "{'MATERIAL': ['MATERIAL',''], 'ACABAMENTO/TRATAMENTO SUPERF': ['ACABAMENTO/TRATAMENTO SUPERF',''], 'PREFORMACAO': ['PREFORMACAO',''], 'REVESTIMENTO/COR': ['REVESTIMENTO/COR',''], 'TORCAO': ['TORCAO',''], 'FORMACAO': ['FORMACAO',''], 'CONSTRUCAO PERNA': ['CONSTRUCAO PERNA',''], 'MATERIAL ALMA': ['MATERIAL ALMA',''], 'LUBRIFICACAO': ['LUBRIFICACAO',''], 'CARGA RUPTURA MINIMA': ['CARGA RUPTURA MINIMA',''], 'DIAMETRO': ['DIAMETRO',''], 'COMPRIMENTO': ['COMPRIMENTO',''], 'EXTREMIDADE': ['EXTREMIDADE',''], 'MATERIAL EXTREMIDADE': ['MATERIAL EXTREMIDADE',''], 'FABRICANTE-REFERENCIA': ['FABRICANTE-REFERENCIA',''], 'FABRICANTE': ['FABRICANTE',''], 'FORMACAO CABO': ['FORMACAO','']}\n",
    "\n",
    "{'MATERIAL': ['MATERIAL', ''], 'ACABAMENTO/TRATAMENTO SUPERF': ['ACABAMENTO/TRATAMENTO SUPERF', ''], 'TORCAO': ['PREFORMACAO', ''], 'FORMACAO CABO': ['REVESTIMENTO/COR', ''], 'CONSTRUCAO PERNA': ['TORCAO', ''], 'MATERIAL ALMA': ['FORMACAO', ''], 'LUBRIFICACAO': ['CONSTRUCAO PERNA', ''], 'CARGA RUPTURA MINIMA': ['MATERIAL ALMA', ''], 'DIAMETRO': ['LUBRIFICACAO', ''], 'COMPRIMENTO': ['CARGA RUPTURA MINIMA', ''], 'EXTREMIDADE': ['DIAMETRO', ''], 'MATERIAL EXTREMIDADE': ['COMPRIMENTO', ''], 'CARACTERISTICAS ADICIONAIS': ['EXTREMIDADE', ''], 'FABRICANTE-REFERENCIA': ['MATERIAL EXTREMIDADE', ''], 'FABRICANTE': ['CARACTERISTICAS ADICIONAIS', '']}"
   ]
  },
  {
   "cell_type": "code",
   "execution_count": 5,
   "metadata": {},
   "outputs": [],
   "source": [
    "win_cad_pd = \"\"\n",
    "try:\n",
    "    link_pd = f\"https://portal.berneck.com.br/se/form/efms_exec_html/efms_exec_frame.php?fgapplication=seform&fgpreview=2&oidrevisionform=8ae445747a67a2a7017a8782f30f19e1&oidentityreg=872e9c5473f543a6aeb12f3d3be514ec&action=2&&\"\n",
    "    browser.switch_to.window(window_principal) \n",
    "    \n",
    "    windows = browser.window_handles\n",
    "    for window in windows:\n",
    "        browser.switch_to.window(window)\n",
    "        if browser.current_url == link_pd:\n",
    "            win_cad_pd = window\n",
    "            break\n",
    "            \n",
    "    if win_cad_pd == \"\":\n",
    "        browser.execute_script(f\"window.open('{link_pd}', '_blank')\")        \n",
    "        windows = browser.window_handles\n",
    "        browser.switch_to.window(windows[-1])\n",
    "        #Aguardar carregar a pagina\n",
    "        WebDriverWait(browser, 10).until(\n",
    "            EC.presence_of_element_located((By.ID, \"headerTitle\"))\n",
    "        )\n",
    "        txt_pd = browser.find_element(By.ID, \"headerTitle\")\n",
    "        if \"dpdcaract\" in txt_pd.text:\n",
    "            win_cad_pd = windows[-1]            \n",
    "        \n",
    "    if win_cad_pd != \"\":\n",
    "        browser.switch_to.window(win_cad_pd)\n",
    "        WebDriverWait(browser, 10).until(\n",
    "            EC.presence_of_element_located((By.ID, \"efmsExec\"))\n",
    "        )    \n",
    "        browser.switch_to.frame(\"efmsExec\")\n",
    "        WebDriverWait(browser, 10).until(\n",
    "            EC.presence_of_element_located((By.ID, \"field_8ae445747a67a2a7017a8781c3531794\"))\n",
    "        )\n",
    "        \n",
    "except:\n",
    "    print(\"Erro\")"
   ]
  },
  {
   "cell_type": "code",
   "execution_count": null,
   "metadata": {},
   "outputs": [],
   "source": [
    "browser.find_elements(By.TAG_NAME, \"\")"
   ]
  }
 ],
 "metadata": {
  "kernelspec": {
   "display_name": "Python 3",
   "language": "python",
   "name": "python3"
  },
  "language_info": {
   "codemirror_mode": {
    "name": "ipython",
    "version": 3
   },
   "file_extension": ".py",
   "mimetype": "text/x-python",
   "name": "python",
   "nbconvert_exporter": "python",
   "pygments_lexer": "ipython3",
   "version": "3.12.3"
  }
 },
 "nbformat": 4,
 "nbformat_minor": 2
}
