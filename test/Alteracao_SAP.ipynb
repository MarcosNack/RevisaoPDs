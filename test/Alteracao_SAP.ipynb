{
 "cells": [
  {
   "cell_type": "code",
   "execution_count": 1,
   "metadata": {},
   "outputs": [],
   "source": [
    "import pandas as pd\n",
    "\n",
    "import win32com.client as win"
   ]
  },
  {
   "cell_type": "code",
   "execution_count": 2,
   "metadata": {},
   "outputs": [],
   "source": [
    "SapGuiAuto  = win.GetObject(\"SAPGUI\")\n",
    "application = SapGuiAuto.GetScriptingEngine\n",
    "connection = application.Children(0)\n",
    "session = connection.Children(0)\n",
    "\n",
    "session.findById(\"wnd[0]/tbar[0]/okcd\").text = \"/NMM02\"\n",
    "session.findById(\"wnd[0]\").sendVKey(0)\n",
    "\n",
    "\n"
   ]
  },
  {
   "cell_type": "code",
   "execution_count": 3,
   "metadata": {},
   "outputs": [],
   "source": [
    "df = pd.read_excel(\"CONTATOR MANOBRA POTENCIA_rev.xlsx\", dtype=str)"
   ]
  },
  {
   "cell_type": "code",
   "execution_count": 9,
   "metadata": {},
   "outputs": [],
   "source": [
    "for i in df.index[5:]:\n",
    "    sku = df.loc[i, \"COD_ITEM\"]\n",
    "    txt_curto = df.loc[i, \"NEW_SHORT_TEXT\"]\n",
    "    txt_long = df.loc[i, \"NEW_LONG_TEXT\"]\n",
    "    session.findById(\"wnd[0]/usr/ctxtRMMG1-MATNR\").text = sku\n",
    "    session.findById(\"wnd[0]/tbar[1]/btn[5]\").press()\n",
    "    session.findById(\"wnd[1]/tbar[0]/btn[19]\").press()\n",
    "    session.findById(\"wnd[1]/usr/tblSAPLMGMMTC_VIEW\").getAbsoluteRow(0).selected = True\n",
    "    session.findById(\"wnd[1]/tbar[0]/btn[0]\").press()\n",
    "    session.findById(\"wnd[0]/usr/tabsTABSPR1/tabpSP01/ssubTABFRA1:SAPLMGMM:2004/subSUB1:SAPLMGD1:1002/txtMAKT-MAKTX\").text = txt_curto\n",
    "    session.findById(\"wnd[0]/usr/tabsTABSPR1/tabpSP01/ssubTABFRA1:SAPLMGMM:2004/subSUB7:SAPLMGD1:2033/btnPUSH_GRUNDDATENTEXT\").press()\n",
    "    session.findById(\"wnd[0]/usr/tabsTABSPR1/tabpZU05/ssubTABFRA1:SAPLMGMM:2110/subSUB2:SAPLMGD1:2031/cntlLONGTEXT_GRUNDD/shellcont/shell\").text = txt_long\n",
    "    session.findById(\"wnd[0]/tbar[0]/btn[11]\").press()"
   ]
  }
 ],
 "metadata": {
  "kernelspec": {
   "display_name": "Python 3",
   "language": "python",
   "name": "python3"
  },
  "language_info": {
   "codemirror_mode": {
    "name": "ipython",
    "version": 3
   },
   "file_extension": ".py",
   "mimetype": "text/x-python",
   "name": "python",
   "nbconvert_exporter": "python",
   "pygments_lexer": "ipython3",
   "version": "3.12.3"
  }
 },
 "nbformat": 4,
 "nbformat_minor": 2
}
